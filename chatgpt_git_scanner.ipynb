{
 "cells": [
  {
   "cell_type": "code",
   "execution_count": null,
   "metadata": {},
   "outputs": [],
   "source": [
    "# Block comment: Import Required Libraries\n",
    "import requests\n",
    "import pandas as pd\n",
    "import seaborn as sns\n",
    "import matplotlib.pyplot as plt"
   ]
  },
  {
   "cell_type": "code",
   "execution_count": null,
   "metadata": {},
   "outputs": [],
   "source": [
    "# Block comment: Define the Github API endpoint to search for repositories\n",
    "github_api = \"https://api.github.com/search/repositories\"\n",
    "\n",
    "# Define the query parameters\n",
    "query_params = {\n",
    "    \"q\": \"openai chatGPT\",\n",
    "    \"sort\": \"stars\",\n",
    "    \"order\": \"desc\"\n",
    "}"
   ]
  },
  {
   "cell_type": "code",
   "execution_count": null,
   "metadata": {},
   "outputs": [],
   "source": [
    "# Block comment: Send a GET request to the Github API to search for repositories\n",
    "response = requests.get(github_api, params=query_params)\n",
    "\n",
    "# Check if the request was successful\n",
    "if response.status_code == 200:\n",
    "    # Convert the response to a JSON object\n",
    "    data = response.json()\n",
    "\n",
    "    # Extract the relevant information from the JSON object\n",
    "    repositories = data[\"items\"]\n",
    "    repo_data = []\n",
    "    for repo in repositories:\n",
    "        repo_data.append(\n",
    "            {\n",
    "                \"name\": repo[\"name\"],\n",
    "                \"full_name\": repo[\"full_name\"],\n",
    "                \"html_url\": repo[\"html_url\"],\n",
    "                \"contributors_url\": repo[\"contributors_url\"],\n",
    "                \"stargazers_count\": repo[\"stargazers_count\"],\n",
    "                \"forks_count\": repo[\"forks_count\"],\n",
    "                \"open_issues_count\": repo[\"open_issues_count\"],\n",
    "                \"contributors\": []\n",
    "            }\n",
    "        )\n",
    "\n",
    "    # Block comment: Loop over each repository to get the contributors\n",
    "    for repo in repo_data:\n",
    "        response = requests.get(repo[\"contributors_url\"])\n",
    "        if response.status_code == 200:\n",
    "            contributors = response.json()\n",
    "            for contributor in contributors:\n",
    "                repo[\"contributors\"].append(contributor[\"login\"])\n",
    "\n",
    "    # Block comment: Create a Pandas dataframe from the repository data\n",
    "    df = pd.DataFrame(repo_data)\n",
    "\n",
    "    # Create a heatmap of the contributors for each repository\n",
    "    contributors_pivot = df.pivot_table(\n",
    "        index=\"name\", columns=\"contributors\", values=\"contributors\", aggfunc=\"count\", fill_value=0\n",
    "    )\n",
    "    sns.heatmap(contributors_pivot, cmap=\"YlGnBu\")\n",
    "    plt.show()\n",
    "\n",
    "# Block comment: If the request was unsuccessful, print an error message\n",
    "else:\n",
    "    print(\"An error occurred while trying to retrieve the repository data\")"
   ]
  }
 ],
 "metadata": {
  "language_info": {
   "name": "python"
  },
  "orig_nbformat": 4
 },
 "nbformat": 4,
 "nbformat_minor": 2
}
