{
 "cells": [
  {
   "cell_type": "code",
   "execution_count": null,
   "metadata": {},
   "outputs": [],
   "source": [
    "# Block comment: Import your required libraries\n",
    "import requests\n",
    "import subprocess\n",
    "import IPython.display as ipd\n",
    "import matplotlib.pyplot as plt\n",
    "from wordcloud import WordCloud\n",
    "from bs4 import BeautifulSoup"
   ]
  },
  {
   "cell_type": "code",
   "execution_count": null,
   "metadata": {},
   "outputs": [],
   "source": [
    "# Block comment: Input the URL of your video\n",
    "url = input(\"Enter the URL of the video: \")\n",
    "main(url)"
   ]
  },
  {
   "cell_type": "code",
   "execution_count": null,
   "metadata": {},
   "outputs": [],
   "source": [
    "# Block comment: Download the video from your URL\n",
    "def download_video(url):\n",
    "    response = requests.get(url)\n",
    "    with open(\"video.mp4\", \"wb\") as f:\n",
    "        f.write(response.content)\n",
    "        \n",
    "# Extract the audio from the video\n",
    "def extract_audio():\n",
    "    subprocess.call([\"ffmpeg\", \"-i\", \"video.mp4\", \"-vn\", \"-ac\", \"1\", \"-ar\", \"16000\", \"-acodec\", \"pcm_s16le\", \"audio.wav\"])"
   ]
  },
  {
   "cell_type": "code",
   "execution_count": null,
   "metadata": {},
   "outputs": [],
   "source": [
    "# Block comment: Convert the audio to text using OpenAI Whisper\n",
    "def transcribe_audio():\n",
    "    with open(\"audio.wav\", \"rb\") as f:\n",
    "        audio = f.read()\n",
    "    # Replace with OpenAI API Key\n",
    "    api_key = \"YOUR_API_KEY_HERE\"\n",
    "    response = requests.post(\"https://api.openai.com/v1/engines/whisper/jobs\",\n",
    "                             headers={\"Authorization\": f\"Bearer {api_key}\"},\n",
    "                             json={\"model\": \"text-davinci-002\",\n",
    "                                   \"audio\": {\"data\": audio.hex()}})\n",
    "    if response.status_code != 200:\n",
    "        raise ValueError(\"Failed to transcribe audio\")\n",
    "    result = response.json()\n",
    "    return result[\"text\"]"
   ]
  },
  {
   "cell_type": "code",
   "execution_count": null,
   "metadata": {},
   "outputs": [],
   "source": [
    "# Block comment: Generate your wordcloud from the transcript\n",
    "def generate_wordcloud(text):\n",
    "    wordcloud = WordCloud().generate(text)\n",
    "    plt.imshow(wordcloud, interpolation='bilinear')\n",
    "    plt.axis(\"off\")\n",
    "    plt.show()\n",
    "\n",
    "# Block comment: Here's your Main function\n",
    "def main(url):\n",
    "    download_video(url)\n",
    "    extract_audio()\n",
    "    transcript = transcribe_audio()\n",
    "    generate_wordcloud(transcript)"
   ]
  }
 ],
 "metadata": {
  "language_info": {
   "name": "python"
  },
  "orig_nbformat": 4
 },
 "nbformat": 4,
 "nbformat_minor": 2
}
